{
 "cells": [
  {
   "cell_type": "markdown",
   "id": "04b25324",
   "metadata": {},
   "source": [
    "# Automatic File Sorter In File Explorer"
   ]
  },
  {
   "cell_type": "code",
   "execution_count": 1,
   "id": "1d5e60d5",
   "metadata": {},
   "outputs": [],
   "source": [
    "import os, shutil"
   ]
  },
  {
   "cell_type": "code",
   "execution_count": 2,
   "id": "77390c26",
   "metadata": {},
   "outputs": [],
   "source": [
    "path = r\"D:/Data Analysis/Automated File Sorter Python/\""
   ]
  },
  {
   "cell_type": "code",
   "execution_count": 3,
   "id": "c759f42f",
   "metadata": {},
   "outputs": [],
   "source": [
    "file_name = os.listdir(path)"
   ]
  },
  {
   "cell_type": "code",
   "execution_count": 7,
   "id": "2cf57c1f",
   "metadata": {},
   "outputs": [],
   "source": [
    "folder_names = [\"csv files\", \"Image files\", \"Text files\"]\n",
    "\n",
    "# Creating destination folders if they don't exist\n",
    "\n",
    "for folder_name in folder_names:\n",
    "    destination_dir = os.path.join(path, folder_name)\n",
    "    if not os.path.exists(destination_dir):\n",
    "        print(destination_dir)\n",
    "        os.makedirs(destination_dir)"
   ]
  },
  {
   "cell_type": "code",
   "execution_count": 8,
   "id": "71ccd1b0",
   "metadata": {},
   "outputs": [],
   "source": [
    "# Moving files to their corresponding folders based on their extensions\n",
    "\n",
    "for file in file_name:\n",
    "    if \".csv\" in file and not os.path.exists(os.path.join(path, \"csv files\", file)):\n",
    "        shutil.move(os.path.join(path, file), os.path.join(path, \"csv files\", file))\n",
    "    elif \".png\" in file and not os.path.exists(os.path.join(path, \"Image files\", file)):\n",
    "        shutil.move(os.path.join(path, file), os.path.join(path, \"Image files\", file))\n",
    "    elif \".txt\" in file and not os.path.exists(os.path.join(path, \"Text files\", file)):\n",
    "        shutil.move(os.path.join(path, file), os.path.join(path, \"Text files\", file))\n",
    "    else:\n",
    "        print(\"Error moving file\")"
   ]
  },
  {
   "cell_type": "code",
   "execution_count": null,
   "id": "469ba1a3",
   "metadata": {},
   "outputs": [],
   "source": []
  },
  {
   "cell_type": "code",
   "execution_count": null,
   "id": "4c710278",
   "metadata": {},
   "outputs": [],
   "source": []
  },
  {
   "cell_type": "code",
   "execution_count": null,
   "id": "ce72010e",
   "metadata": {},
   "outputs": [],
   "source": []
  },
  {
   "cell_type": "code",
   "execution_count": null,
   "id": "8e0c239b",
   "metadata": {},
   "outputs": [],
   "source": []
  },
  {
   "cell_type": "code",
   "execution_count": null,
   "id": "37e7652a",
   "metadata": {},
   "outputs": [],
   "source": []
  },
  {
   "cell_type": "code",
   "execution_count": null,
   "id": "3dea27ce",
   "metadata": {},
   "outputs": [],
   "source": []
  },
  {
   "cell_type": "code",
   "execution_count": null,
   "id": "d50d9819",
   "metadata": {},
   "outputs": [],
   "source": []
  }
 ],
 "metadata": {
  "kernelspec": {
   "display_name": "Python 3 (ipykernel)",
   "language": "python",
   "name": "python3"
  },
  "language_info": {
   "codemirror_mode": {
    "name": "ipython",
    "version": 3
   },
   "file_extension": ".py",
   "mimetype": "text/x-python",
   "name": "python",
   "nbconvert_exporter": "python",
   "pygments_lexer": "ipython3",
   "version": "3.11.5"
  }
 },
 "nbformat": 4,
 "nbformat_minor": 5
}
