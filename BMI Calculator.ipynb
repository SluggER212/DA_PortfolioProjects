{
 "cells": [
  {
   "cell_type": "markdown",
   "id": "0f409b33",
   "metadata": {},
   "source": [
    "# BMI Calculator"
   ]
  },
  {
   "cell_type": "code",
   "execution_count": 16,
   "id": "0d039832",
   "metadata": {},
   "outputs": [
    {
     "name": "stdout",
     "output_type": "stream",
     "text": [
      "Enter your name: Slug\n",
      "Enter your weight in pounds: 111\n",
      "Enter your heigh in inches: 63\n",
      "Your BMI is :  19.660619803476948\n",
      "Slug, you're Normal Weight\n"
     ]
    }
   ],
   "source": [
    "name = input(\"Enter your name: \")\n",
    "\n",
    "weight = int(input(\"Enter your weight in pounds: \"))\n",
    "    \n",
    "height = int(input(\"Enter your heigh in inches: \"))\n",
    "    \n",
    "BMI = (weight * 703) / (height * height)\n",
    "\n",
    "print(\"Your BMI is : \", BMI)\n",
    "\n",
    "if BMI>0:\n",
    "    if(BMI<18.5):\n",
    "        print(name + \", you're Underweight\")\n",
    "    elif(BMI<24.9):\n",
    "        print(name + \", you're Normal Weight\")\n",
    "    elif(BMI<29.9):\n",
    "        print(name + \", you're Overweight\")\n",
    "    elif(BMI<34.9):\n",
    "        print(name + \", you're Obese\")\n",
    "    elif(BMI<39.9):\n",
    "        print(name + \", you're Severely Obese\")\n",
    "    elif(BMI>=40):\n",
    "        print(name + \", you're Morbidly Obese\")\n",
    "    else:\n",
    "        print(\"Enter Valid input\")"
   ]
  },
  {
   "cell_type": "code",
   "execution_count": null,
   "id": "70b69fdf",
   "metadata": {},
   "outputs": [],
   "source": []
  },
  {
   "cell_type": "code",
   "execution_count": null,
   "id": "5e0f1f82",
   "metadata": {},
   "outputs": [],
   "source": []
  },
  {
   "cell_type": "code",
   "execution_count": null,
   "id": "1e349f72",
   "metadata": {},
   "outputs": [],
   "source": []
  },
  {
   "cell_type": "code",
   "execution_count": null,
   "id": "f7e875e8",
   "metadata": {},
   "outputs": [],
   "source": [
    "#BMI = (weight * 703) / (height * height)"
   ]
  },
  {
   "cell_type": "code",
   "execution_count": null,
   "id": "64fdd147",
   "metadata": {},
   "outputs": [],
   "source": [
    "Under 18.5\tUnderweight\tMinimal\n",
    "18.5 - 24.9\tNormal Weight\tMinimal\n",
    "25 - 29.9\tOverweight\tIncreased\n",
    "30 - 34.9\tObese\tHigh\n",
    "35 - 39.9\tSeverely Obese\tVery High\n",
    "40 and over\tMorbidly Obese\tExtremely High"
   ]
  }
 ],
 "metadata": {
  "kernelspec": {
   "display_name": "Python 3 (ipykernel)",
   "language": "python",
   "name": "python3"
  },
  "language_info": {
   "codemirror_mode": {
    "name": "ipython",
    "version": 3
   },
   "file_extension": ".py",
   "mimetype": "text/x-python",
   "name": "python",
   "nbconvert_exporter": "python",
   "pygments_lexer": "ipython3",
   "version": "3.11.5"
  }
 },
 "nbformat": 4,
 "nbformat_minor": 5
}
